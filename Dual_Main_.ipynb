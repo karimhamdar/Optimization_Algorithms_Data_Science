{
  "nbformat": 4,
  "nbformat_minor": 0,
  "metadata": {
    "colab": {
      "provenance": [],
      "collapsed_sections": [
        "i_AcxEwHPKnN",
        "yJ33MluiWKiI",
        "Ge3xFAk4PPCi",
        "qEQ9NPCHWbCj",
        "x4che5tfWbnZ",
        "u4Mw-K9tsPER",
        "Is9gfswAcmRB",
        "6xwmXZ3zzgkG",
        "SN-Lb6GYzcNk",
        "gmGB5IlTzVmG",
        "rKJHjFkCzW4A"
      ]
    },
    "kernelspec": {
      "name": "python3",
      "display_name": "Python 3"
    },
    "language_info": {
      "name": "python"
    }
  },
  "cells": [
    {
      "cell_type": "markdown",
      "source": [
        "# **Optimization Methods for Clustering**\n",
        "### **Members:** Luca Tusini (2092227), Davide Christian Mancosu Bustos (2089208), Karim Eugenio Hamdar (2092041)\n",
        "\n"
      ],
      "metadata": {
        "id": "4Swfeq2Es-IR"
      }
    },
    {
      "cell_type": "markdown",
      "source": [
        "---\n",
        "## **LOADING DATA**"
      ],
      "metadata": {
        "id": "i_AcxEwHPKnN"
      }
    },
    {
      "cell_type": "code",
      "execution_count": 1,
      "metadata": {
        "id": "5JQZisHjPD3h"
      },
      "outputs": [],
      "source": [
        "import numpy as np\n",
        "import matplotlib.pyplot as plt\n",
        "import time"
      ]
    },
    {
      "cell_type": "code",
      "source": [
        "def read_clq_file(filename):\n",
        "    with open(filename, 'r') as file:\n",
        "        lines = file.readlines()\n",
        "        edges = []\n",
        "\n",
        "    for line in lines:\n",
        "        line = line.strip()\n",
        "\n",
        "        # Skip comments and empty lines\n",
        "        if line.startswith('c') or not line:\n",
        "            continue\n",
        "\n",
        "        # Process problem line\n",
        "        if line.startswith('p'):\n",
        "            parts = line.split()\n",
        "            if len(parts) == 4 and (parts[1] == 'edge' or parts[1] == 'col'):\n",
        "                num_vertices = int(parts[2])\n",
        "                num_edges = int(parts[3])\n",
        "                print(f\"Number of vertices: {num_vertices}\")\n",
        "                print(f\"Number of edges: {num_edges}\")\n",
        "\n",
        "        # Process edge lines\n",
        "        if line.startswith('e'):\n",
        "            parts = line.split()\n",
        "            if len(parts) == 3:\n",
        "                vertex1 = int(parts[1])\n",
        "                vertex2 = int(parts[2])\n",
        "                edges.append((vertex1, vertex2))\n",
        "\n",
        "    adjacency_matrix = np.zeros((num_vertices, num_vertices), dtype=int)\n",
        "    for vertex1, vertex2 in edges:\n",
        "        adjacency_matrix[vertex1-1][vertex2-1] = 1\n",
        "        adjacency_matrix[vertex2-1][vertex1-1] = 1\n",
        "\n",
        "    return num_vertices, num_edges, adjacency_matrix"
      ],
      "metadata": {
        "id": "lVxpTnVrPFFa"
      },
      "execution_count": 3,
      "outputs": []
    },
    {
      "cell_type": "code",
      "source": [
        "file_name = 'hamming8-4.clq'\n",
        "num_vertices, num_edges, adjacency_matrix = read_clq_file(file_name)"
      ],
      "metadata": {
        "colab": {
          "base_uri": "https://localhost:8080/"
        },
        "id": "K5XY40qdPFNF",
        "outputId": "5061b193-b014-4e10-f92d-862d13778c48"
      },
      "execution_count": 5,
      "outputs": [
        {
          "output_type": "stream",
          "name": "stdout",
          "text": [
            "Number of vertices: 256\n",
            "Number of edges: 20864\n"
          ]
        }
      ]
    },
    {
      "cell_type": "markdown",
      "source": [
        "---\n",
        "## **L2 Regularized Max-Clique Problem**"
      ],
      "metadata": {
        "id": "yJ33MluiWKiI"
      }
    },
    {
      "cell_type": "code",
      "source": [
        "def objective_function(x, A):\n",
        "    return np.dot(x.T, np.dot(A, x)) + 0.5 * np.dot(x.T, x)\n",
        "\n",
        "def gradient(x, A):\n",
        "    return -2 * np.dot(A, x) - x\n",
        "\n",
        "def LMO(grad, n):\n",
        "    ik = np.argmin(grad)\n",
        "    y = np.zeros(n)\n",
        "    y[ik] = 1\n",
        "    return y\n",
        "\n",
        "def dual_gap(x, A, n):\n",
        "    return np.dot(gradient(x, A), x - LMO(gradient(x, A), n))\n",
        "\n",
        "def armijo_rule(x, grad, d_k, A, delta=0.8, gamma=0.01):\n",
        "    alpha = 1\n",
        "    m = 0\n",
        "    while objective_function(x + alpha * d_k, A) > objective_function(x, A) + gamma * alpha * np.dot(grad, d_k):\n",
        "        alpha = delta**m * alpha\n",
        "        m += 1\n",
        "    return alpha\n",
        "\n",
        "# Compute the L constant as the max eigenvalue of the matrix: 2 * A + I\n",
        "def compute_L(A):\n",
        "    I = np.eye(A.shape[0])\n",
        "    M = 2 * A + I\n",
        "    eigenvalues = np.linalg.eigvals(M)\n",
        "    L = np.max(np.abs(eigenvalues))\n",
        "    return L"
      ],
      "metadata": {
        "id": "hB2qkzNYTQgh"
      },
      "execution_count": 6,
      "outputs": []
    },
    {
      "cell_type": "markdown",
      "source": [
        "---\n",
        "### 1) Classic Frank-Wolfe Algorithm"
      ],
      "metadata": {
        "id": "Ge3xFAk4PPCi"
      }
    },
    {
      "cell_type": "code",
      "source": [
        "def FW(A, max_iter=1000, line_search='diminishing stepsize', starting_node=0, threshold=1e-6):\n",
        "    n = A.shape[0]\n",
        "    x = np.zeros(n)\n",
        "    x[starting_node] = 1\n",
        "\n",
        "    iter_reach = False\n",
        "\n",
        "    obj = []\n",
        "    gaps = []\n",
        "    cpu_times = []\n",
        "\n",
        "    obj.append(objective_function(x, A))\n",
        "\n",
        "    if line_search == 'lipschitz constant dependent stepsize':\n",
        "        L = compute_L(A)\n",
        "\n",
        "    for iter in range(max_iter):\n",
        "        start_time = time.time()\n",
        "\n",
        "        grad = gradient(x, A)\n",
        "\n",
        "        y = LMO(grad, n)\n",
        "\n",
        "        d_k = y - x\n",
        "\n",
        "        if line_search == 'diminishing stepsize':\n",
        "            alpha = 2 / (2 + iter)\n",
        "        elif line_search == 'lipschitz constant dependent stepsize':\n",
        "            alpha = min(-np.dot(grad, d_k) / (L * np.dot(d_k, d_k)), 1)\n",
        "        elif line_search == 'armijo rule':\n",
        "            alpha = armijo_rule(x, grad, d_k, A)\n",
        "\n",
        "        x_new = x + (alpha * d_k)\n",
        "        x = x_new\n",
        "\n",
        "        obj.append(objective_function(x, A))\n",
        "        gaps.append(dual_gap(x, A, n))\n",
        "\n",
        "        end_time = time.time()\n",
        "        cpu_times.append(end_time - start_time)\n",
        "\n",
        "        if gaps[-1] < threshold:  # Stopping Condition\n",
        "            iter_reach = iter\n",
        "            print(f'Duality gap reached at iteration: #{iter_reach}')\n",
        "            break\n",
        "\n",
        "    clique_vertices = np.where(x > 0)[0]\n",
        "    clique_size = len(clique_vertices)\n",
        "\n",
        "    d = {'Clique size': clique_size,\n",
        "         'Obj. List': obj,\n",
        "         'Duality gap List': gaps,\n",
        "         'CPU time List': cpu_times,\n",
        "         'Iteration reached': iter_reach}\n",
        "\n",
        "    return d"
      ],
      "metadata": {
        "id": "MFSEpqbOPFUW"
      },
      "execution_count": 8,
      "outputs": []
    },
    {
      "cell_type": "code",
      "source": [
        "starting_time = time.time()\n",
        "r_FW = FW(adjacency_matrix, max_iter=10000, line_search='diminishing stepsize', threshold=0.001)\n",
        "endining_time = time.time()\n",
        "\n",
        "r_FW['execution time'] = np.round(endining_time - starting_time, 2)\n",
        "\n",
        "print('Execution time: ', r_FW['execution time'],'s\\n')\n",
        "print('Clique size found:', r_FW['Clique size'])"
      ],
      "metadata": {
        "id": "eKHwTUKPPFjJ",
        "colab": {
          "base_uri": "https://localhost:8080/"
        },
        "outputId": "f6ac76bf-2f8b-43cd-8069-0f0b52be86a7"
      },
      "execution_count": 9,
      "outputs": [
        {
          "output_type": "stream",
          "name": "stdout",
          "text": [
            "Duality gap reached at iteration: #943\n",
            "Execution time:  0.56 s\n",
            "\n",
            "Clique size found: 16\n"
          ]
        }
      ]
    },
    {
      "cell_type": "markdown",
      "source": [
        "---\n",
        "### 2) Away-step Frank-Wolfe Algorithm"
      ],
      "metadata": {
        "id": "qEQ9NPCHWbCj"
      }
    },
    {
      "cell_type": "code",
      "source": [
        "def away_step_FW(A, max_iter=1000, line_search='diminishing stepsize', starting_node=0, threshold=1e-6):\n",
        "\n",
        "    n = A.shape[0]\n",
        "    x = np.zeros(n)\n",
        "\n",
        "    iter_reach = False\n",
        "\n",
        "    x[starting_node] = 1\n",
        "    S = {starting_node}  # Initial active set\n",
        "\n",
        "    obj = []\n",
        "    gaps = []\n",
        "    cpu_times = []\n",
        "\n",
        "    obj.append(objective_function(x,A))\n",
        "\n",
        "    if line_search == 'lipschitz constant dependent stepsize':\n",
        "        L = compute_L(A)\n",
        "\n",
        "    for k in range(max_iter):\n",
        "        start_time = time.time()\n",
        "        grad = gradient(x,A)\n",
        "\n",
        "        # Frank-Wolfe direction\n",
        "        x_FW = LMO(grad, n)\n",
        "        d_FW = x_FW - x\n",
        "\n",
        "        # Away-step direction\n",
        "        i_AS = max(S, key=lambda i: grad[i])\n",
        "        x_AS = np.zeros(n)\n",
        "        x_AS[i_AS] = 1\n",
        "        d_AS = x - x_AS\n",
        "\n",
        "        g_FW = grad @ d_FW\n",
        "        g_AS = grad @ d_AS\n",
        "\n",
        "        if g_FW <= g_AS:\n",
        "            d_k = d_FW\n",
        "            alpha_max = 1\n",
        "        else:\n",
        "            d_k = d_AS\n",
        "            alpha_max = x[i_AS] / (1 - x[i_AS])\n",
        "\n",
        "        if line_search == 'diminishing stepsize':\n",
        "            alpha_k = min(alpha_max, 2 / (2 + k))\n",
        "        elif line_search == 'lipschitz constant dependent stepsize':\n",
        "            alpha_k = min(alpha_max, min(-np.dot(grad, d_k) / (L * np.dot(d_k, d_k)), 1))\n",
        "        elif line_search == 'armijo rule':\n",
        "            alpha_k = armijo_rule(x, grad, d_k, A)\n",
        "\n",
        "        x = x + alpha_k * d_k\n",
        "\n",
        "        obj.append(objective_function(x,A))\n",
        "        gaps.append(dual_gap(x, A, n))\n",
        "\n",
        "        S = {i for i in range(n) if x[i] > 0} # Update active set\n",
        "\n",
        "        end_time = time.time()\n",
        "        cpu_times.append(end_time - start_time)\n",
        "\n",
        "        if gaps[-1] < threshold:  # Stopping Condition\n",
        "            iter_reach = k\n",
        "            print(f'Duality gap reached at iteration: #{iter_reach}')\n",
        "            break\n",
        "\n",
        "    clique_vertices = np.where(x > 0)[0]\n",
        "    clique_size = (len(clique_vertices))\n",
        "\n",
        "    d = {'Clique size': clique_size,\n",
        "         'Obj. List': obj,\n",
        "         'Duality gap List': gaps,\n",
        "         'CPU time List': cpu_times,\n",
        "         'Iteration reached': iter_reach}\n",
        "\n",
        "    return d"
      ],
      "metadata": {
        "id": "yAPxZD0BWe15"
      },
      "execution_count": 11,
      "outputs": []
    },
    {
      "cell_type": "code",
      "source": [
        "starting_time = time.time()\n",
        "r_AS = away_step_FW(adjacency_matrix, max_iter=10000, line_search='diminishing stepsize', starting_node=0, threshold=0.001)\n",
        "endining_time = time.time()\n",
        "\n",
        "r_AS['execution time'] = np.round(endining_time - starting_time, 2)\n",
        "\n",
        "print('Execution time: ', r_AS['execution time'],'s\\n')\n",
        "print('Clique size found:', r_AS['Clique size'])"
      ],
      "metadata": {
        "colab": {
          "base_uri": "https://localhost:8080/"
        },
        "id": "dxzo5HT4yHEe",
        "outputId": "a71db019-d0e2-4db8-b0e5-5861d6c5ebc9"
      },
      "execution_count": 12,
      "outputs": [
        {
          "output_type": "stream",
          "name": "stdout",
          "text": [
            "Duality gap reached at iteration: #943\n",
            "Execution time:  0.67 s\n",
            "\n",
            "Clique size found: 16\n"
          ]
        }
      ]
    },
    {
      "cell_type": "markdown",
      "source": [
        "---\n",
        "### 3) Pair Wise Frank-Wolfe Algorithm"
      ],
      "metadata": {
        "id": "x4che5tfWbnZ"
      }
    },
    {
      "cell_type": "code",
      "source": [
        "def pairwise_FW(A, max_iter=1000, line_search='diminishing stepsize', starting_node=0, threshold=1e-6):\n",
        "\n",
        "    n = A.shape[0]\n",
        "    x = np.zeros(n)\n",
        "\n",
        "    iter_reach = False\n",
        "\n",
        "    x[starting_node] = 1\n",
        "    S = {starting_node}  # Initial active set\n",
        "\n",
        "    obj = []\n",
        "    gaps = []\n",
        "    cpu_times = []\n",
        "\n",
        "    obj.append(objective_function(x,A))\n",
        "\n",
        "    if line_search == 'lipschitz constant dependent stepsize':\n",
        "        L = compute_L(A)\n",
        "\n",
        "    for k in range(max_iter):\n",
        "        start_time = time.time()\n",
        "        grad = gradient(x, A)\n",
        "\n",
        "        # Frank-Wolfe direction\n",
        "        x_FW = LMO(grad, n)\n",
        "        d_FW = x_FW - x\n",
        "\n",
        "        # Away-step direction\n",
        "        i_AS = max(S, key=lambda i: grad[i])\n",
        "        x_AS = np.zeros(n)\n",
        "        x_AS[i_AS] = 1\n",
        "        d_AS = x - x_AS\n",
        "\n",
        "        # Pairwise FW direction\n",
        "        d_k = d_FW + d_AS\n",
        "\n",
        "        alpha_max_candidates = [-x[i] / d_k[i] for i in range(n) if d_k[i] < 0]\n",
        "        alpha_max = min(alpha_max_candidates) if alpha_max_candidates else 1.0\n",
        "\n",
        "\n",
        "        if line_search == 'diminishing stepsize':\n",
        "            alpha_k = min(alpha_max, 2 / (2 + k))\n",
        "        elif line_search == 'lipschitz constant dependent stepsize':\n",
        "            alpha_k = min(alpha_max, min(-np.dot(grad, d_k) / (L * np.dot(d_k, d_k)), 1))\n",
        "        elif line_search == 'armijo rule':\n",
        "            alpha_k = armijo_rule(x, grad, d_k, A)\n",
        "\n",
        "        x = x + alpha_k * d_k\n",
        "\n",
        "        obj.append(objective_function(x,A))\n",
        "        gaps.append(dual_gap(x, A, n))\n",
        "\n",
        "        S = {i for i in range(n) if x[i] > 0} # Update active set\n",
        "\n",
        "        end_time = time.time()\n",
        "        cpu_times.append(end_time - start_time)\n",
        "\n",
        "        if gaps[-1] < threshold:  # Stopping Condition\n",
        "            iter_reach = k\n",
        "            print(f'Duality gap reached at iteration: #{iter_reach}')\n",
        "            break\n",
        "\n",
        "    clique_vertices = np.where(x > 0)[0]\n",
        "    clique_size = (len(clique_vertices))\n",
        "\n",
        "    d = {'Clique size': clique_size,\n",
        "         'Obj. List': obj,\n",
        "         'Duality gap List': gaps,\n",
        "         'CPU time List': cpu_times,\n",
        "         'Iteration reached': iter_reach}\n",
        "\n",
        "    return d"
      ],
      "metadata": {
        "id": "dVP_MSMQWcdL"
      },
      "execution_count": 15,
      "outputs": []
    },
    {
      "cell_type": "code",
      "source": [
        "starting_time = time.time()\n",
        "r_PW = pairwise_FW(adjacency_matrix, max_iter=10000, line_search='diminishing stepsize', starting_node=0, threshold=0.001)\n",
        "endining_time = time.time()\n",
        "\n",
        "r_PW['execution time'] = np.round(endining_time - starting_time, 2)\n",
        "\n",
        "print('Execution time: ', r_PW['execution time'],'s\\n')\n",
        "print('Clique size found:', r_PW['Clique size'])"
      ],
      "metadata": {
        "colab": {
          "base_uri": "https://localhost:8080/"
        },
        "id": "ukiAXnHbdv76",
        "outputId": "e2cb5a77-e8be-4990-8b65-8105efabd5fd"
      },
      "execution_count": 16,
      "outputs": [
        {
          "output_type": "stream",
          "name": "stdout",
          "text": [
            "Duality gap reached at iteration: #876\n",
            "Execution time:  0.71 s\n",
            "\n",
            "Clique size found: 16\n"
          ]
        }
      ]
    },
    {
      "cell_type": "markdown",
      "source": [
        "---\n",
        "### 4) Model Comparison"
      ],
      "metadata": {
        "id": "u4Mw-K9tsPER"
      }
    },
    {
      "cell_type": "code",
      "source": [
        "print(f'--- 1) FW')\n",
        "print(f'Duality gap reached at iteration: #{r_FW[\"Iteration reached\"]} in {r_FW[\"execution time\"]}s\\n------------------------------------------')\n",
        "print(f'--- 2) Away Step FW')\n",
        "print(f'Duality gap reached at iteration: #{r_AS[\"Iteration reached\"]} in {r_AS[\"execution time\"]}s\\n------------------------------------------')\n",
        "print(f'--- 3) Pairwise FW')\n",
        "print(f'Duality gap reached at iteration: #{r_PW[\"Iteration reached\"]} in {r_PW[\"execution time\"]}s\\n------------------------------------------')"
      ],
      "metadata": {
        "colab": {
          "base_uri": "https://localhost:8080/"
        },
        "id": "VaRwX-UxsK0s",
        "outputId": "f22b2f1a-177c-45ed-858f-29d52b1f4d15"
      },
      "execution_count": 17,
      "outputs": [
        {
          "output_type": "stream",
          "name": "stdout",
          "text": [
            "--- 1) FW\n",
            "Duality gap reached at iteration: #943 in 0.56s\n",
            "------------------------------------------\n",
            "--- 2) Away Step FW\n",
            "Duality gap reached at iteration: #943 in 0.67s\n",
            "------------------------------------------\n",
            "--- 3) Pairwise FW\n",
            "Duality gap reached at iteration: #876 in 0.71s\n",
            "------------------------------------------\n"
          ]
        }
      ]
    },
    {
      "cell_type": "markdown",
      "source": [
        "---\n",
        "## **L0 Regularized Max-Clique Problem**"
      ],
      "metadata": {
        "id": "Is9gfswAcmRB"
      }
    },
    {
      "cell_type": "code",
      "source": [
        "def objective_function_2(x, A, alpha2, beta):\n",
        "    return np.dot(x.T, np.dot(A, x)) + (alpha2 * np.sum(np.exp(-beta * x) - 1))\n",
        "\n",
        "def gradient_2(x, A, alpha2, beta):\n",
        "    return -2 * np.dot(A, x) + alpha2 * beta * np.exp(-beta * x)\n",
        "\n",
        "def LMO(grad, n):\n",
        "    ik = np.argmin(grad)\n",
        "    y = np.zeros(n)\n",
        "    y[ik] = 1\n",
        "    return y\n",
        "\n",
        "def dual_gap_2(x, A, n, alpha2, beta):\n",
        "    return np.dot(gradient_2(x, A, alpha2, beta), x - LMO(gradient_2(x, A, alpha2, beta), n))\n",
        "\n",
        "def armijo_rule(x, grad, d_k, A, delta=0.8, gamma=0.01, alpha2=0.05, beta=0.5):\n",
        "    alpha = 1\n",
        "    m = 0\n",
        "    while objective_function_2(x + alpha * d_k, A, alpha2, beta) > objective_function_2(x, A, alpha2, beta) + gamma * alpha * np.dot(grad, d_k):\n",
        "        alpha = delta**m * alpha\n",
        "        m += 1\n",
        "    return alpha\n",
        "\n",
        "# Compute the L constant as: 2∥A∥ + α2*β\n",
        "def compute_L_2(A, alpha2, beta):\n",
        "    A_norm = np.linalg.norm(A, ord=2)  # 2-norm of A\n",
        "    L = 2 * A_norm + alpha2 * beta\n",
        "    return L"
      ],
      "metadata": {
        "id": "aN_yP_1iAuLu"
      },
      "execution_count": 18,
      "outputs": []
    },
    {
      "cell_type": "markdown",
      "source": [
        "---\n",
        "### 1) Classic Frank-Wolfe Algorithm"
      ],
      "metadata": {
        "id": "6xwmXZ3zzgkG"
      }
    },
    {
      "cell_type": "code",
      "source": [
        "def FW_2(A, max_iter=1000, line_search='diminishing stepsize', starting_node=0, alpha2=0.05, beta=5, threshold=1e-6):\n",
        "\n",
        "    n = A.shape[0]\n",
        "    x = np.zeros(n)\n",
        "    x[starting_node] = 1\n",
        "\n",
        "    iter_reach = False\n",
        "    obj = []\n",
        "    gaps = []\n",
        "    cpu_times = []\n",
        "\n",
        "    obj.append(objective_function_2(x, A, alpha2, beta))\n",
        "\n",
        "    if line_search == 'lipschitz constant dependent stepsize':\n",
        "        L = compute_L_2(A, alpha2, beta)\n",
        "\n",
        "    for iter in range(max_iter):\n",
        "        start_time = time.time()\n",
        "\n",
        "        grad = gradient_2(x, A, alpha2, beta)\n",
        "\n",
        "        y = LMO(grad, n)\n",
        "\n",
        "        d_k = y - x\n",
        "\n",
        "        if line_search == 'diminishing stepsize':\n",
        "            alpha = 2 / (2 + iter)\n",
        "        elif line_search == 'lipschitz constant dependent stepsize':\n",
        "            alpha = min(-np.dot(grad, d_k) / (L * np.dot(d_k, d_k)), 1)\n",
        "        elif line_search == 'armijo rule':\n",
        "            alpha = armijo_rule(x, grad, d_k, A, alpha2, beta)\n",
        "\n",
        "        x_new = x + (alpha * d_k)\n",
        "        x = x_new\n",
        "\n",
        "        obj.append(objective_function_2(x, A, alpha2, beta))\n",
        "        gaps.append(dual_gap_2(x, A, n, alpha2, beta))\n",
        "\n",
        "        end_time = time.time()\n",
        "        cpu_times.append(end_time - start_time)\n",
        "\n",
        "        if gaps[-1] < threshold:  # Stopping Condition\n",
        "            iter_reach = iter\n",
        "            print(f'Duality gap reached at iteration: #{iter_reach}')\n",
        "            break\n",
        "\n",
        "    clique_vertices = np.where(x > 0)[0]\n",
        "    clique_size = (len(clique_vertices))\n",
        "\n",
        "    d = {'Clique size': clique_size,\n",
        "         'Obj. List': obj,\n",
        "         'Duality gap List': gaps,\n",
        "         'CPU time List': cpu_times,\n",
        "         'Iteration reached': iter_reach}\n",
        "\n",
        "    return d"
      ],
      "metadata": {
        "id": "ssjmeoAPzcVj"
      },
      "execution_count": 19,
      "outputs": []
    },
    {
      "cell_type": "code",
      "source": [
        "starting_time = time.time()\n",
        "r_FW_2 = FW_2(adjacency_matrix, max_iter=10000, line_search='diminishing stepsize', alpha2=0.05, beta=0.5, threshold=0.001)\n",
        "endining_time = time.time()\n",
        "\n",
        "r_FW_2['execution time'] = np.round(endining_time - starting_time, 2)\n",
        "\n",
        "print('Execution time: ', r_FW_2['execution time'],'s\\n')\n",
        "print('Clique size found:', r_FW_2['Clique size'])"
      ],
      "metadata": {
        "colab": {
          "base_uri": "https://localhost:8080/"
        },
        "id": "7NJ2xJ6xB2Ut",
        "outputId": "973a4a4d-3d02-4ede-a877-e83bc02863aa"
      },
      "execution_count": 20,
      "outputs": [
        {
          "output_type": "stream",
          "name": "stdout",
          "text": [
            "Duality gap reached at iteration: #1865\n",
            "Execution time:  2.16 s\n",
            "\n",
            "Clique size found: 16\n"
          ]
        }
      ]
    },
    {
      "cell_type": "markdown",
      "source": [
        "---\n",
        "### 2) Away-step Frank-Wolfe Algorithm"
      ],
      "metadata": {
        "id": "SN-Lb6GYzcNk"
      }
    },
    {
      "cell_type": "code",
      "source": [
        "def away_step_FW_2(A, max_iter=1000, line_search='diminishing stepsize', starting_node=0, alpha2=0.05, beta=0.5, threshold=1e-6):\n",
        "\n",
        "    n = A.shape[0]\n",
        "    x = np.zeros(n)\n",
        "\n",
        "    x[starting_node] = 1\n",
        "    S = {starting_node}  # Initial active set\n",
        "\n",
        "    iter_reach = False\n",
        "    obj = []\n",
        "    gaps = []\n",
        "    cpu_times = []\n",
        "\n",
        "    obj.append(objective_function_2(x,A, alpha2, beta))\n",
        "\n",
        "    if line_search == 'lipschitz constant dependent stepsize':\n",
        "        L = compute_L_2(A, alpha2, beta)\n",
        "\n",
        "    for k in range(max_iter):\n",
        "        start_time = time.time()\n",
        "        grad = gradient_2(x, A, alpha2, beta)\n",
        "\n",
        "        # Frank-Wolfe direction\n",
        "        x_FW = LMO(grad, n)\n",
        "        d_FW = x_FW - x\n",
        "\n",
        "        # Away-step direction\n",
        "        i_AS = max(S, key=lambda i: grad[i])\n",
        "        x_AS = np.zeros(n)\n",
        "        x_AS[i_AS] = 1\n",
        "        d_AS = x - x_AS\n",
        "\n",
        "        g_FW = grad @ d_FW\n",
        "        g_AS = grad @ d_AS\n",
        "\n",
        "        if g_FW <= g_AS:\n",
        "            d_k = d_FW\n",
        "            alpha_max = 1\n",
        "        else:\n",
        "            d_k = d_AS\n",
        "            alpha_max = x[i_AS] / (1 - x[i_AS])\n",
        "\n",
        "        if line_search == 'diminishing stepsize':\n",
        "            alpha_k = min(alpha_max, 2 / (2 + k))\n",
        "        elif line_search == 'lipschitz constant dependent stepsize':\n",
        "            alpha_k = min(alpha_max, min(-np.dot(grad, d_k) / (L * np.dot(d_k, d_k)), 1))\n",
        "        elif line_search == 'armijo rule':\n",
        "            alpha = armijo_rule(x, grad, d_k, A, alpha2, beta)\n",
        "\n",
        "        x = x + alpha_k * d_k\n",
        "\n",
        "        obj.append(objective_function_2(x,A, alpha2, beta))\n",
        "        gaps.append(dual_gap_2(x, A, n, alpha2, beta))\n",
        "\n",
        "        S = {i for i in range(n) if x[i] > 0} # Update active set\n",
        "\n",
        "        end_time = time.time()\n",
        "        cpu_times.append(end_time - start_time)\n",
        "\n",
        "        if gaps[-1] < threshold:  # Stopping Condition\n",
        "            iter_reach = k\n",
        "            print(f'Duality gap reached at iteration: #{iter_reach}')\n",
        "            break\n",
        "\n",
        "    clique_vertices = np.where(x > 0)[0]\n",
        "    clique_size = (len(clique_vertices))\n",
        "\n",
        "    d = {'Clique size': clique_size,\n",
        "         'Obj. List': obj,\n",
        "         'Duality gap List': gaps,\n",
        "         'CPU time List': cpu_times,\n",
        "         'Iteration reached': iter_reach}\n",
        "\n",
        "    return d"
      ],
      "metadata": {
        "id": "ORSZcJAcPczg"
      },
      "execution_count": 22,
      "outputs": []
    },
    {
      "cell_type": "code",
      "source": [
        "starting_time = time.time()\n",
        "r_AS_2 = away_step_FW_2(adjacency_matrix, max_iter=10000, line_search='diminishing stepsize', alpha2=0.05, beta=0.5, threshold=0.001)\n",
        "endining_time = time.time()\n",
        "\n",
        "r_AS_2['execution time'] = np.round(endining_time - starting_time, 2)\n",
        "\n",
        "print('Execution time: ', r_AS_2['execution time'],'s\\n')\n",
        "print('Clique size found:', r_AS_2['Clique size'])"
      ],
      "metadata": {
        "colab": {
          "base_uri": "https://localhost:8080/"
        },
        "id": "_xEiiSwQKwuY",
        "outputId": "867aa3f6-cb21-4128-b2ac-5120e6523be2"
      },
      "execution_count": 23,
      "outputs": [
        {
          "output_type": "stream",
          "name": "stdout",
          "text": [
            "Duality gap reached at iteration: #1865\n",
            "Execution time:  3.02 s\n",
            "\n",
            "Clique size found: 16\n"
          ]
        }
      ]
    },
    {
      "cell_type": "markdown",
      "source": [
        "---\n",
        "### 3) Pair Wise Frank-Wolfe Algorithm"
      ],
      "metadata": {
        "id": "gmGB5IlTzVmG"
      }
    },
    {
      "cell_type": "code",
      "source": [
        "def pairwise_FW_2(A, max_iter=1000, line_search='diminishing stepsize', starting_node=0, alpha2=0.05, beta=0.5, threshold=1e-6):\n",
        "\n",
        "    n = A.shape[0]\n",
        "    x = np.zeros(n)\n",
        "\n",
        "    x[starting_node] = 1\n",
        "    S = {starting_node}  # Initial active set\n",
        "\n",
        "    iter_reach = False\n",
        "    obj = []\n",
        "    gaps = []\n",
        "    cpu_times = []\n",
        "\n",
        "    obj.append(objective_function_2(x, A, alpha2, beta))\n",
        "\n",
        "    if line_search == 'lipschitz constant dependent stepsize':\n",
        "        L = compute_L_2(A, alpha2, beta)\n",
        "\n",
        "    for k in range(max_iter):\n",
        "        start_time = time.time()\n",
        "        grad = gradient_2(x, A, alpha2, beta)\n",
        "\n",
        "        # Frank-Wolfe direction\n",
        "        x_FW = LMO(grad, n)\n",
        "        d_FW = x_FW - x\n",
        "\n",
        "        # Away-step direction (maximizing over the active set)\n",
        "        i_AS = max(S, key=lambda i: grad[i])\n",
        "        x_AS = np.zeros(n)\n",
        "        x_AS[i_AS] = 1\n",
        "        d_AS = x - x_AS\n",
        "\n",
        "        # Pairwise FW direction\n",
        "        d_k = d_FW + d_AS\n",
        "\n",
        "        alpha_max_candidates = [-x[i] / d_k[i] for i in range(n) if d_k[i] < 0]\n",
        "        alpha_max = min(alpha_max_candidates) if alpha_max_candidates else 1.0\n",
        "\n",
        "        if line_search == 'diminishing stepsize':\n",
        "            alpha_k = min(alpha_max, 2 / (2 + k))\n",
        "        elif line_search == 'lipschitz constant dependent stepsize':\n",
        "            alpha_k = min(alpha_max, min(-np.dot(grad, d_k) / (L * np.dot(d_k, d_k)), 1))\n",
        "        elif line_search == 'armijo rule':\n",
        "            alpha = armijo_rule(x, grad, d_k, A, alpha2, beta)\n",
        "\n",
        "        x = x + alpha_k * d_k\n",
        "\n",
        "        obj.append(objective_function_2(x, A, alpha2, beta))\n",
        "        gaps.append(dual_gap_2(x, A, n, alpha2, beta))\n",
        "\n",
        "        S = {i for i in range(n) if x[i] > 0} # Update active set\n",
        "\n",
        "        end_time = time.time()\n",
        "        cpu_times.append(end_time - start_time)\n",
        "\n",
        "        if gaps[-1] < threshold:  # Stopping Condition\n",
        "            iter_reach = k\n",
        "            print(f'Duality gap reached at iteration: #{iter_reach}')\n",
        "            break\n",
        "\n",
        "    clique_vertices = np.where(x > 0)[0]\n",
        "    clique_size = (len(clique_vertices))\n",
        "\n",
        "    d = {'Clique size': clique_size,\n",
        "         'Obj. List': obj,\n",
        "         'Duality gap List': gaps,\n",
        "         'CPU time List': cpu_times,\n",
        "         'Iteration reached': iter_reach}\n",
        "\n",
        "    return d"
      ],
      "metadata": {
        "id": "uHvTGru0zWq-"
      },
      "execution_count": 24,
      "outputs": []
    },
    {
      "cell_type": "code",
      "source": [
        "starting_time = time.time()\n",
        "r_PW_2 = pairwise_FW_2(adjacency_matrix, max_iter=10000, line_search='diminishing stepsize', alpha2=0.05, beta=0.5, threshold=0.001)\n",
        "endining_time = time.time()\n",
        "\n",
        "r_PW_2['execution time'] = np.round(endining_time - starting_time, 2)\n",
        "\n",
        "print('Execution time: ', r_PW_2['execution time'],'s\\n')\n",
        "print('Clique size found:', r_PW_2['Clique size'])"
      ],
      "metadata": {
        "colab": {
          "base_uri": "https://localhost:8080/"
        },
        "id": "n4EbXPSjRQsP",
        "outputId": "1bc3126c-751a-4f2a-e1f7-8c2f34d3f202"
      },
      "execution_count": 25,
      "outputs": [
        {
          "output_type": "stream",
          "name": "stdout",
          "text": [
            "Duality gap reached at iteration: #1756\n",
            "Execution time:  1.8 s\n",
            "\n",
            "Clique size found: 16\n"
          ]
        }
      ]
    },
    {
      "cell_type": "markdown",
      "source": [
        "---\n",
        "### 4) Model Comparison"
      ],
      "metadata": {
        "id": "rKJHjFkCzW4A"
      }
    },
    {
      "cell_type": "code",
      "source": [
        "print(f'--- 1) FW')\n",
        "print(f'Duality gap reached at iteration: #{r_FW_2[\"Iteration reached\"]} in {r_FW_2[\"execution time\"]}s\\n------------------------------------------')\n",
        "print(f'--- 2) Away Step FW')\n",
        "print(f'Duality gap reached at iteration: #{r_AS_2[\"Iteration reached\"]} in {r_AS_2[\"execution time\"]}s\\n------------------------------------------')\n",
        "print(f'--- 3) Pairwise FW')\n",
        "print(f'Duality gap reached at iteration: #{r_PW_2[\"Iteration reached\"]} in {r_PW_2[\"execution time\"]}s\\n------------------------------------------')"
      ],
      "metadata": {
        "id": "tH1rCEtxzXlT",
        "colab": {
          "base_uri": "https://localhost:8080/"
        },
        "outputId": "10decea2-f8a4-41d2-9fec-eb6041dbf55f"
      },
      "execution_count": 26,
      "outputs": [
        {
          "output_type": "stream",
          "name": "stdout",
          "text": [
            "--- 1) FW\n",
            "Duality gap reached at iteration: #1865 in 2.16s\n",
            "------------------------------------------\n",
            "--- 2) Away Step FW\n",
            "Duality gap reached at iteration: #1865 in 3.02s\n",
            "------------------------------------------\n",
            "--- 3) Pairwise FW\n",
            "Duality gap reached at iteration: #1756 in 1.8s\n",
            "------------------------------------------\n"
          ]
        }
      ]
    }
  ]
}