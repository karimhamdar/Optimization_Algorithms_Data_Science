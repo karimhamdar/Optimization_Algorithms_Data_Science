{
  "cells": [
    {
      "cell_type": "markdown",
      "metadata": {
        "id": "AbemgFhfzzvj"
      },
      "source": [
        "# **Optimization Methods for Clustering**\n",
        "### **Members:** Luca Tusini (2092227), Davide Christian Mancosu Bustos (2089208), Karim Eugenio Hamdar (2092041)\n",
        "\n"
      ]
    },
    {
      "cell_type": "markdown",
      "metadata": {
        "id": "3M7Bioz80dmD"
      },
      "source": [
        "---\n",
        "## **Loading Data**"
      ]
    },
    {
      "cell_type": "code",
      "execution_count": 1,
      "metadata": {
        "id": "-uTelz1x0dWu"
      },
      "outputs": [],
      "source": [
        "import numpy as np\n",
        "import matplotlib.pyplot as plt\n",
        "import time"
      ]
    },
    {
      "cell_type": "code",
      "execution_count": 2,
      "metadata": {
        "id": "LsMAeOKDx4G0"
      },
      "outputs": [],
      "source": [
        "def read_clq_file(filename):\n",
        "    with open(filename, 'r') as file:\n",
        "        lines = file.readlines()\n",
        "        edges = []\n",
        "\n",
        "    for line in lines:\n",
        "        line = line.strip()\n",
        "\n",
        "        # Skip comments and empty lines\n",
        "        if line.startswith('c') or not line:\n",
        "            continue\n",
        "\n",
        "        # Process problem line\n",
        "        if line.startswith('p'):\n",
        "            parts = line.split()\n",
        "            if len(parts) == 4 and (parts[1] == 'edge' or parts[1] == 'col'):\n",
        "                num_vertices = int(parts[2])\n",
        "                num_edges = int(parts[3])\n",
        "                print(f\"Number of vertices: {num_vertices}\")\n",
        "                print(f\"Number of edges: {num_edges}\")\n",
        "\n",
        "        # Process edge lines\n",
        "        if line.startswith('e'):\n",
        "            parts = line.split()\n",
        "            if len(parts) == 3:\n",
        "                vertex1 = int(parts[1])\n",
        "                vertex2 = int(parts[2])\n",
        "                edges.append((vertex1, vertex2))\n",
        "\n",
        "    adjacency_matrix = np.zeros((num_vertices, num_vertices), dtype=int)\n",
        "    for vertex1, vertex2 in edges:\n",
        "        adjacency_matrix[vertex1-1][vertex2-1] = 1\n",
        "        adjacency_matrix[vertex2-1][vertex1-1] = 1\n",
        "\n",
        "    return num_vertices, num_edges, adjacency_matrix"
      ]
    },
    {
      "cell_type": "code",
      "execution_count": 3,
      "metadata": {
        "colab": {
          "base_uri": "https://localhost:8080/"
        },
        "id": "c325jyiq0lzL",
        "outputId": "dad31cc1-d59f-49e2-c407-94b39cf2e0be"
      },
      "outputs": [
        {
          "output_type": "stream",
          "name": "stdout",
          "text": [
            "Number of vertices: 256\n",
            "Number of edges: 20864\n"
          ]
        }
      ],
      "source": [
        "file_name = 'hamming8-4.clq'\n",
        "num_vertices, num_edges, adjacency_matrix = read_clq_file(file_name)"
      ]
    },
    {
      "cell_type": "markdown",
      "metadata": {
        "id": "WTWz5loB0n-s"
      },
      "source": [
        "---\n",
        "## **L2 Regularized Max-Clique Problem**"
      ]
    },
    {
      "cell_type": "code",
      "execution_count": 4,
      "metadata": {
        "id": "g6NoQQoW0qGs"
      },
      "outputs": [],
      "source": [
        "def objective_function(x, A):\n",
        "    return np.dot(x.T, np.dot(A, x)) + 0.5 * np.dot(x.T, x)\n",
        "\n",
        "def gradient(x, A):\n",
        "    return -2 * np.dot(A, x) - x\n",
        "\n",
        "def LMO(grad, n):\n",
        "    ik = np.argmin(grad)\n",
        "    y = np.zeros(n)\n",
        "    y[ik] = 1\n",
        "    return y\n",
        "\n",
        "# Compute the L constant as the max eigenvalue of the matrix: 2 * A + I\n",
        "def compute_L(A):\n",
        "    I = np.eye(A.shape[0])\n",
        "    M = 2 * A + I\n",
        "    eigenvalues = np.linalg.eigvals(M)\n",
        "    L = np.max(np.abs(eigenvalues))\n",
        "    return L"
      ]
    },
    {
      "cell_type": "markdown",
      "metadata": {
        "id": "UETOWrhI0tP7"
      },
      "source": [
        "---\n",
        "### 1) Classic Frank-Wolfe Algorithm"
      ]
    },
    {
      "cell_type": "code",
      "execution_count": 5,
      "metadata": {
        "id": "kaQXSO-X0xRV"
      },
      "outputs": [],
      "source": [
        "def FW(A, max_iter=1000, line_search='diminishing stepsize'):\n",
        "\n",
        "    n = A.shape[0]\n",
        "    results = []\n",
        "\n",
        "    if line_search == 'lipschitz constant dependent stepsize':\n",
        "        L = compute_L(A)\n",
        "\n",
        "    for initial_node in range(n):\n",
        "\n",
        "        x = np.zeros(n)\n",
        "        x[initial_node] = 1  # Initial guess\n",
        "\n",
        "        for iter in range(max_iter):\n",
        "\n",
        "            grad = gradient(x, A)\n",
        "\n",
        "            y = LMO(grad, n)\n",
        "\n",
        "            d_k = y - x\n",
        "\n",
        "            if line_search == 'diminishing stepsize':\n",
        "                alpha = 2 / (2 + iter)\n",
        "            elif line_search == 'lipschitz constant dependent stepsize':\n",
        "                alpha = min(-np.dot(grad, d_k) / (L * np.dot(d_k, d_k)), 1)\n",
        "\n",
        "            x_new = x + (alpha * d_k)\n",
        "            x = x_new\n",
        "\n",
        "        clique_vertices = np.where(x > 0)[0]\n",
        "        results.append(len(clique_vertices))\n",
        "\n",
        "    return (np.argmax(results), max(results))"
      ]
    },
    {
      "cell_type": "code",
      "execution_count": 6,
      "metadata": {
        "colab": {
          "base_uri": "https://localhost:8080/"
        },
        "id": "bNQQGWag3IYl",
        "outputId": "65fc359f-27e3-4d53-f25b-f2ed289fcca0"
      },
      "outputs": [
        {
          "output_type": "stream",
          "name": "stdout",
          "text": [
            "Execution time: 57.03s\n",
            "Max clique found: 16, for initial node: 0\n"
          ]
        }
      ],
      "source": [
        "starting_time = time.time()\n",
        "r_FW = FW(adjacency_matrix, line_search='diminishing stepsize')\n",
        "ending_time = time.time()\n",
        "\n",
        "time_FW = np.round(ending_time-starting_time,2)\n",
        "\n",
        "print(f'Execution time: {time_FW}s')\n",
        "print(f'Max clique found: {r_FW[1]}, for initial node: {r_FW[0]}')"
      ]
    },
    {
      "cell_type": "markdown",
      "metadata": {
        "id": "BgsSSfto4WsA"
      },
      "source": [
        "---\n",
        "### 2) Away-step Frank-Wolfe Algorithm"
      ]
    },
    {
      "cell_type": "code",
      "execution_count": 7,
      "metadata": {
        "id": "8H2PpNKk32md"
      },
      "outputs": [],
      "source": [
        "def away_step_FW(A, max_iter=1000, line_search='diminishing stepsize'):\n",
        "\n",
        "    n = A.shape[0]\n",
        "    results = []\n",
        "\n",
        "    if line_search == 'lipschitz constant dependent stepsize':\n",
        "        L = compute_L(A)\n",
        "\n",
        "    for initial_node in range(n):\n",
        "\n",
        "      x = np.zeros(n)\n",
        "\n",
        "      x[initial_node] = 1\n",
        "      S = {initial_node}  # Initial active set\n",
        "\n",
        "\n",
        "      for k in range(max_iter):\n",
        "\n",
        "          grad = gradient(x,A)\n",
        "\n",
        "          # Frank-Wolfe direction\n",
        "          x_FW = LMO(grad, n)\n",
        "          d_FW = x_FW - x\n",
        "\n",
        "          # Away-step direction\n",
        "          i_AS = max(S, key=lambda i: grad[i])\n",
        "          x_AS = np.zeros(n)\n",
        "          x_AS[i_AS] = 1\n",
        "          d_AS = x - x_AS\n",
        "\n",
        "          g_FW = grad @ d_FW\n",
        "          g_AS = grad @ d_AS\n",
        "\n",
        "          if g_FW <= g_AS:\n",
        "              d_k = d_FW\n",
        "              alpha_max = 1\n",
        "          else:\n",
        "              d_k = d_AS\n",
        "              alpha_max = x[i_AS] / (1 - x[i_AS])\n",
        "\n",
        "          if line_search == 'diminishing stepsize':\n",
        "              alpha_k = min(alpha_max, 2 / (2 + k))\n",
        "          elif line_search == 'lipschitz constant dependent stepsize':\n",
        "              alpha_k = min(alpha_max, min(-np.dot(grad, d_k) / (L * np.dot(d_k, d_k)), 1))\n",
        "\n",
        "          x = x + alpha_k * d_k\n",
        "\n",
        "          S = {i for i in range(n) if x[i] > 0} # Update active set\n",
        "\n",
        "      clique_vertices = np.where(x > 0)[0]\n",
        "      results.append(len(clique_vertices))\n",
        "\n",
        "    return (np.argmax(results), max(results))"
      ]
    },
    {
      "cell_type": "code",
      "execution_count": 8,
      "metadata": {
        "id": "irqtd4N44vcF",
        "colab": {
          "base_uri": "https://localhost:8080/"
        },
        "outputId": "645243a0-df75-4238-c687-bdff1a2e0b74"
      },
      "outputs": [
        {
          "output_type": "stream",
          "name": "stdout",
          "text": [
            "Execution time: 75.03s\n",
            "Max clique found: 16, for initial node: 0\n"
          ]
        }
      ],
      "source": [
        "starting_time = time.time()\n",
        "r_AS = away_step_FW(adjacency_matrix, line_search='diminishing stepsize')\n",
        "ending_time = time.time()\n",
        "\n",
        "time_AS = np.round(ending_time-starting_time,2)\n",
        "\n",
        "print(f'Execution time: {time_AS}s')\n",
        "print(f'Max clique found: {r_AS[1]}, for initial node: {r_AS[0]}')"
      ]
    },
    {
      "cell_type": "markdown",
      "metadata": {
        "id": "aQ2AmT6x6AKV"
      },
      "source": [
        "---\n",
        "### 3) Pair Wise Frank-Wolfe Algorithm"
      ]
    },
    {
      "cell_type": "code",
      "execution_count": 9,
      "metadata": {
        "id": "2ZzYdfo-6AWJ"
      },
      "outputs": [],
      "source": [
        "def pairwise_FW(A, max_iter=1000, line_search='diminishing stepsize', starting_node=0):\n",
        "\n",
        "    n = A.shape[0]\n",
        "    results = []\n",
        "\n",
        "    if line_search == 'lipschitz constant dependent stepsize':\n",
        "        L = compute_L(A)\n",
        "\n",
        "    for initial_node in range(n):\n",
        "\n",
        "        x = np.zeros(n)\n",
        "        x[starting_node] = 1\n",
        "\n",
        "        S = {starting_node}  # Initial active set\n",
        "\n",
        "        for k in range(max_iter):\n",
        "\n",
        "            grad = gradient(x, A)\n",
        "\n",
        "            # Frank-Wolfe direction\n",
        "            x_FW = LMO(grad, n)\n",
        "            d_FW = x_FW - x\n",
        "\n",
        "            # Away-step direction\n",
        "            i_AS = max(S, key=lambda i: grad[i])\n",
        "            x_AS = np.zeros(n)\n",
        "            x_AS[i_AS] = 1\n",
        "            d_AS = x - x_AS\n",
        "\n",
        "            # Pairwise FW direction\n",
        "            d_k = d_FW + d_AS\n",
        "\n",
        "            alpha_max = np.inf\n",
        "            for i in range(n):\n",
        "                if d_k[i] > 0:\n",
        "                    alpha_max = min(alpha_max, (1 - x[i]) / d_k[i])\n",
        "                elif d_k[i] < 0:\n",
        "                    alpha_max = min(alpha_max, -x[i] / d_k[i])\n",
        "\n",
        "            if line_search == 'diminishing stepsize':\n",
        "                alpha_k = min(alpha_max, 2 / (2 + k))\n",
        "            elif line_search == 'lipschitz constant dependent stepsize':\n",
        "                alpha_k = min(alpha_max, min(-np.dot(grad, d_k) / (L * np.dot(d_k, d_k)), 1))\n",
        "\n",
        "            x = x + alpha_k * d_k\n",
        "\n",
        "            S = {i for i in range(n) if x[i] > 0} # Update active set\n",
        "\n",
        "        clique_vertices = np.where(x > 0)[0]\n",
        "        results.append(len(clique_vertices))\n",
        "\n",
        "    return (np.argmax(results), max(results))"
      ]
    },
    {
      "cell_type": "code",
      "execution_count": 10,
      "metadata": {
        "id": "kvxkh5sa6BIz",
        "colab": {
          "base_uri": "https://localhost:8080/"
        },
        "outputId": "6dc02670-7998-4115-d52e-30a552697243"
      },
      "outputs": [
        {
          "output_type": "stream",
          "name": "stdout",
          "text": [
            "Execution time: 135.36s\n",
            "Max clique found: 16, for initial node: 0\n"
          ]
        }
      ],
      "source": [
        "starting_time = time.time()\n",
        "r_PW = pairwise_FW(adjacency_matrix, line_search='diminishing stepsize')\n",
        "ending_time = time.time()\n",
        "\n",
        "time_PW = np.round(ending_time-starting_time,2)\n",
        "\n",
        "print(f'Execution time: {time_PW}s')\n",
        "print(f'Max clique found: {r_PW[1]}, for initial node: {r_PW[0]}')"
      ]
    },
    {
      "cell_type": "markdown",
      "metadata": {
        "id": "a6AHx5MP8joS"
      },
      "source": [
        "---\n",
        "### 4) Model Comparison"
      ]
    },
    {
      "cell_type": "code",
      "execution_count": 11,
      "metadata": {
        "id": "7R8aP8iA8qGS",
        "colab": {
          "base_uri": "https://localhost:8080/"
        },
        "outputId": "3a121376-780f-4bbb-e88e-bacb6cd05493"
      },
      "outputs": [
        {
          "output_type": "stream",
          "name": "stdout",
          "text": [
            "--- 1) FW (57.03s)\n",
            "Max clique found: 16, for initial node: 0\n",
            "------------------------------------------\n",
            "--- 2) Away Step FW (75.03s)\n",
            "Max clique found: 16, for initial node: 0\n",
            "------------------------------------------\n",
            "--- 3) Pairwise FW (135.36s)\n",
            "Max clique found: 16, for initial node: 0\n",
            "------------------------------------------\n"
          ]
        }
      ],
      "source": [
        "print(f'--- 1) FW ({time_FW}s)')\n",
        "print(f'Max clique found: {r_FW[1]}, for initial node: {r_FW[0]}\\n------------------------------------------')\n",
        "print(f'--- 2) Away Step FW ({time_AS}s)')\n",
        "print(f'Max clique found: {r_AS[1]}, for initial node: {r_AS[0]}\\n------------------------------------------')\n",
        "print(f'--- 3) Pairwise FW ({time_PW}s)')\n",
        "print(f'Max clique found: {r_PW[1]}, for initial node: {r_PW[0]}\\n------------------------------------------')"
      ]
    },
    {
      "cell_type": "markdown",
      "metadata": {
        "id": "wC0NArBA4XEr"
      },
      "source": [
        "---\n",
        "## **L0 Regularized Max-Clique Problem**"
      ]
    },
    {
      "cell_type": "code",
      "execution_count": 12,
      "metadata": {
        "id": "64pIDqke4dZ4"
      },
      "outputs": [],
      "source": [
        "def objective_function_2(x, A, alpha2, beta):\n",
        "    return np.dot(x.T, np.dot(A, x)) + (alpha2 * np.sum(np.exp(-beta * x) - 1))\n",
        "\n",
        "def gradient_2(x, A, alpha2, beta):\n",
        "    return -2 * np.dot(A, x) + alpha2 * beta * np.exp(-beta * x)\n",
        "\n",
        "def LMO(grad, n):\n",
        "    ik = np.argmin(grad)\n",
        "    y = np.zeros(n)\n",
        "    y[ik] = 1\n",
        "    return y\n",
        "\n",
        "# Compute the L constant as: 2∥A∥ + α2*β\n",
        "def compute_L_2(A, alpha2, beta):\n",
        "    A_norm = np.linalg.norm(A, ord=2)  # 2-norm of A\n",
        "    L = 2 * A_norm + alpha2 * beta\n",
        "    return L"
      ]
    },
    {
      "cell_type": "markdown",
      "metadata": {
        "id": "iFoMlDu24a0k"
      },
      "source": [
        "---\n",
        "### 1) Classic Frank-Wolfe Algorithm"
      ]
    },
    {
      "cell_type": "code",
      "execution_count": 13,
      "metadata": {
        "id": "P0de-uYJ4gy3"
      },
      "outputs": [],
      "source": [
        "def FW_2(A, max_iter=1000, line_search='diminishing stepsize', alpha2=0.05, beta=0.5):\n",
        "\n",
        "    n = A.shape[0]\n",
        "    results = []\n",
        "\n",
        "    for initial_node in range(n):\n",
        "\n",
        "        x = np.zeros(n)\n",
        "        x[initial_node] = 1  # Initial guess\n",
        "\n",
        "        if line_search == 'lipschitz constant dependent stepsize':\n",
        "          L = compute_L_2(A, alpha2, beta)\n",
        "\n",
        "        for iter in range(max_iter):\n",
        "\n",
        "            grad = gradient_2(x, A, alpha2, beta)\n",
        "\n",
        "            y = LMO(grad, n)\n",
        "\n",
        "            d_k = y - x\n",
        "\n",
        "            if line_search == 'diminishing stepsize':\n",
        "                alpha = 2 / (2 + iter)\n",
        "            elif line_search == 'lipschitz constant dependent stepsize':\n",
        "                alpha = min(-np.dot(grad, d_k) / (L * np.dot(d_k, d_k)), 1)\n",
        "\n",
        "            x_new = x + (alpha * d_k)\n",
        "            x = x_new\n",
        "\n",
        "        clique_vertices = np.where(x > 0)[0]\n",
        "        results.append(len(clique_vertices))\n",
        "\n",
        "    return (np.argmax(results), max(results))"
      ]
    },
    {
      "cell_type": "code",
      "execution_count": 14,
      "metadata": {
        "id": "I4JbTUC143BV",
        "colab": {
          "base_uri": "https://localhost:8080/"
        },
        "outputId": "c55f803a-00da-4735-8f23-8d50cac955a9"
      },
      "outputs": [
        {
          "output_type": "stream",
          "name": "stdout",
          "text": [
            "Execution time: 40.66s\n",
            "Max clique found: 16, for initial node: 0\n"
          ]
        }
      ],
      "source": [
        "starting_time = time.time()\n",
        "r_FW_2 = FW_2(adjacency_matrix, line_search='diminishing stepsize')\n",
        "ending_time = time.time()\n",
        "\n",
        "time_FW_2 = np.round(ending_time-starting_time,2)\n",
        "\n",
        "print(f'Execution time: {time_FW_2}s')\n",
        "print(f'Max clique found: {r_FW_2[1]}, for initial node: {r_FW_2[0]}')"
      ]
    },
    {
      "cell_type": "markdown",
      "metadata": {
        "id": "M8ywDv1A43hJ"
      },
      "source": [
        "---\n",
        "### 2) Away-step Frank-Wolfe Algorithm"
      ]
    },
    {
      "cell_type": "code",
      "execution_count": 15,
      "metadata": {
        "id": "we8TtI727m17"
      },
      "outputs": [],
      "source": [
        "def away_step_FW_2(A, max_iter=1000, line_search='diminishing stepsize', alpha2=0.05, beta=0.5):\n",
        "\n",
        "    n = A.shape[0]\n",
        "    results = []\n",
        "\n",
        "    if line_search == 'lipschitz constant dependent stepsize':\n",
        "        L = compute_L(A, alpha2, beta)\n",
        "\n",
        "    for initial_node in range(n):\n",
        "\n",
        "      x = np.zeros(n)\n",
        "\n",
        "      x[initial_node] = 1\n",
        "      S = {initial_node}  # Initial active set\n",
        "\n",
        "\n",
        "      for k in range(max_iter):\n",
        "\n",
        "          grad = gradient_2(x, A, alpha2, beta)\n",
        "\n",
        "          # Frank-Wolfe direction\n",
        "          x_FW = LMO(grad, n)\n",
        "          d_FW = x_FW - x\n",
        "\n",
        "          # Away-step direction\n",
        "          i_AS = max(S, key=lambda i: grad[i])\n",
        "          x_AS = np.zeros(n)\n",
        "          x_AS[i_AS] = 1\n",
        "          d_AS = x - x_AS\n",
        "\n",
        "          g_FW = grad @ d_FW\n",
        "          g_AS = grad @ d_AS\n",
        "\n",
        "          if g_FW <= g_AS:\n",
        "              d_k = d_FW\n",
        "              alpha_max = 1\n",
        "          else:\n",
        "              d_k = d_AS\n",
        "              alpha_max = x[i_AS] / (1 - x[i_AS])\n",
        "\n",
        "          if line_search == 'diminishing stepsize':\n",
        "              alpha_k = min(alpha_max, 2 / (2 + k))\n",
        "          elif line_search == 'lipschitz constant dependent stepsize':\n",
        "              alpha_k = min(alpha_max, min(-np.dot(grad, d_k) / (L * np.dot(d_k, d_k)), 1))\n",
        "\n",
        "          x = x + alpha_k * d_k\n",
        "\n",
        "          S = {i for i in range(n) if x[i] > 0} # Update active set\n",
        "\n",
        "      clique_vertices = np.where(x > 0)[0]\n",
        "      results.append(len(clique_vertices))\n",
        "\n",
        "    return (np.argmax(results), max(results))"
      ]
    },
    {
      "cell_type": "code",
      "execution_count": 16,
      "metadata": {
        "id": "oVazXD4147t1",
        "colab": {
          "base_uri": "https://localhost:8080/"
        },
        "outputId": "1d4eea1e-1e6a-45b4-a133-d48f46b2cc8a"
      },
      "outputs": [
        {
          "output_type": "stream",
          "name": "stdout",
          "text": [
            "Execution time: 80.31s\n",
            "Max clique found: 16, for initial node: 0\n"
          ]
        }
      ],
      "source": [
        "starting_time = time.time()\n",
        "r_AS_2 = away_step_FW_2(adjacency_matrix, line_search='diminishing stepsize')\n",
        "ending_time = time.time()\n",
        "\n",
        "time_AS_2 = np.round(ending_time-starting_time,2)\n",
        "\n",
        "print(f'Execution time: {time_AS_2}s')\n",
        "print(f'Max clique found: {r_AS_2[1]}, for initial node: {r_AS_2[0]}')"
      ]
    },
    {
      "cell_type": "markdown",
      "metadata": {
        "id": "iTqKs_3p8QKj"
      },
      "source": [
        "---\n",
        "### 3) Pair Wise Frank-Wolfe Algorithm"
      ]
    },
    {
      "cell_type": "code",
      "execution_count": 17,
      "metadata": {
        "id": "Ryjju3Ti8Q9G"
      },
      "outputs": [],
      "source": [
        "def pairwise_FW_2(A, max_iter=1000, line_search='diminishing stepsize', starting_node=0, alpha2=0.05, beta=0.5):\n",
        "\n",
        "    n = A.shape[0]\n",
        "    results = []\n",
        "\n",
        "    if line_search == 'lipschitz constant dependent stepsize':\n",
        "        L = compute_L(A, alpha2, beta)\n",
        "\n",
        "    for initial_node in range(n):\n",
        "\n",
        "        x = np.zeros(n)\n",
        "        x[starting_node] = 1\n",
        "\n",
        "        S = {starting_node}  # Initial active set\n",
        "\n",
        "        for k in range(max_iter):\n",
        "\n",
        "            grad = gradient_2(x, A, alpha2, beta)\n",
        "\n",
        "            # Frank-Wolfe direction\n",
        "            x_FW = LMO(grad, n)\n",
        "            d_FW = x_FW - x\n",
        "\n",
        "            # Away-step direction\n",
        "            i_AS = max(S, key=lambda i: grad[i])\n",
        "            x_AS = np.zeros(n)\n",
        "            x_AS[i_AS] = 1\n",
        "            d_AS = x - x_AS\n",
        "\n",
        "            # Pairwise FW direction\n",
        "            d_k = d_FW + d_AS\n",
        "\n",
        "            alpha_max = np.inf\n",
        "            for i in range(n):\n",
        "                if d_k[i] > 0:\n",
        "                    alpha_max = min(alpha_max, (1 - x[i]) / d_k[i])\n",
        "                elif d_k[i] < 0:\n",
        "                    alpha_max = min(alpha_max, -x[i] / d_k[i])\n",
        "\n",
        "            if line_search == 'diminishing stepsize':\n",
        "                alpha_k = min(alpha_max, 2 / (2 + k))\n",
        "            elif line_search == 'lipschitz constant dependent stepsize':\n",
        "                alpha_k = min(alpha_max, min(-np.dot(grad, d_k) / (L * np.dot(d_k, d_k)), 1))\n",
        "\n",
        "            x = x + alpha_k * d_k\n",
        "\n",
        "            S = {i for i in range(n) if x[i] > 0} # Update active set\n",
        "\n",
        "        clique_vertices = np.where(x > 0)[0]\n",
        "        results.append(len(clique_vertices))\n",
        "\n",
        "    return (np.argmax(results), max(results))"
      ]
    },
    {
      "cell_type": "code",
      "execution_count": 18,
      "metadata": {
        "id": "VFiRnqWx8QlZ",
        "colab": {
          "base_uri": "https://localhost:8080/"
        },
        "outputId": "dc4f4c85-6d73-442c-df57-d58a65a41cc2"
      },
      "outputs": [
        {
          "output_type": "stream",
          "name": "stdout",
          "text": [
            "Execution time: 143.8s\n",
            "Max clique found: 16, for initial node: 0\n"
          ]
        }
      ],
      "source": [
        "starting_time = time.time()\n",
        "r_PW_2 = pairwise_FW_2(adjacency_matrix, line_search='diminishing stepsize')\n",
        "ending_time = time.time()\n",
        "\n",
        "time_PW_2 = np.round(ending_time-starting_time,2)\n",
        "\n",
        "print(f'Execution time: {time_PW_2}s')\n",
        "print(f'Max clique found: {r_PW_2[1]}, for initial node: {r_PW_2[0]}')"
      ]
    },
    {
      "cell_type": "markdown",
      "metadata": {
        "id": "xgLBdTsO9Jb1"
      },
      "source": [
        "---\n",
        "### 4) Model Comparison"
      ]
    },
    {
      "cell_type": "code",
      "execution_count": 19,
      "metadata": {
        "id": "j9i3EpAE9KFb",
        "colab": {
          "base_uri": "https://localhost:8080/"
        },
        "outputId": "05ef0834-7d7f-4377-ace6-ee859a8caace"
      },
      "outputs": [
        {
          "output_type": "stream",
          "name": "stdout",
          "text": [
            "--- 1) FW (40.66s)\n",
            "Max clique found: 16, for initial node: 0\n",
            "------------------------------------------\n",
            "--- 2) Away Step FW (80.31s)\n",
            "Max clique found: 16, for initial node: 0\n",
            "------------------------------------------\n",
            "--- 3) Pairwise FW (143.8s)\n",
            "Max clique found: 16, for initial node: 0\n",
            "------------------------------------------\n"
          ]
        }
      ],
      "source": [
        "print(f'--- 1) FW ({time_FW_2}s)')\n",
        "print(f'Max clique found: {r_FW_2[1]}, for initial node: {r_FW_2[0]}\\n------------------------------------------')\n",
        "print(f'--- 2) Away Step FW ({time_AS_2}s)')\n",
        "print(f'Max clique found: {r_AS_2[1]}, for initial node: {r_AS_2[0]}\\n------------------------------------------')\n",
        "print(f'--- 3) Pairwise FW ({time_PW_2}s)')\n",
        "print(f'Max clique found: {r_PW_2[1]}, for initial node: {r_PW_2[0]}\\n------------------------------------------')"
      ]
    }
  ],
  "metadata": {
    "colab": {
      "collapsed_sections": [
        "3M7Bioz80dmD",
        "WTWz5loB0n-s",
        "UETOWrhI0tP7",
        "BgsSSfto4WsA",
        "aQ2AmT6x6AKV",
        "a6AHx5MP8joS",
        "wC0NArBA4XEr",
        "iFoMlDu24a0k",
        "M8ywDv1A43hJ",
        "iTqKs_3p8QKj",
        "xgLBdTsO9Jb1"
      ],
      "provenance": []
    },
    "kernelspec": {
      "display_name": "Python 3",
      "name": "python3"
    },
    "language_info": {
      "name": "python"
    }
  },
  "nbformat": 4,
  "nbformat_minor": 0
}